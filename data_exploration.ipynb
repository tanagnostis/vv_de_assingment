{
 "cells": [
  {
   "cell_type": "markdown",
   "id": "e257c936",
   "metadata": {},
   "source": [
    "# 0. Import libraries/packages"
   ]
  },
  {
   "cell_type": "code",
   "execution_count": 1,
   "id": "69670af8",
   "metadata": {},
   "outputs": [],
   "source": [
    "import pandas as pd"
   ]
  },
  {
   "cell_type": "markdown",
   "id": "09d454c5",
   "metadata": {},
   "source": [
    "# 1. Data Exploration"
   ]
  },
  {
   "cell_type": "markdown",
   "id": "c2a6ef3b",
   "metadata": {},
   "source": [
    "## 1.1 Card Activations"
   ]
  },
  {
   "cell_type": "code",
   "execution_count": 2,
   "id": "92fc0806",
   "metadata": {},
   "outputs": [],
   "source": [
    "card_activation = pd.read_csv('data/CardActivation.csv', sep =';')"
   ]
  },
  {
   "cell_type": "code",
   "execution_count": 3,
   "id": "8c69326c",
   "metadata": {},
   "outputs": [
    {
     "data": {
      "text/html": [
       "<div>\n",
       "<style scoped>\n",
       "    .dataframe tbody tr th:only-of-type {\n",
       "        vertical-align: middle;\n",
       "    }\n",
       "\n",
       "    .dataframe tbody tr th {\n",
       "        vertical-align: top;\n",
       "    }\n",
       "\n",
       "    .dataframe thead th {\n",
       "        text-align: right;\n",
       "    }\n",
       "</style>\n",
       "<table border=\"1\" class=\"dataframe\">\n",
       "  <thead>\n",
       "    <tr style=\"text-align: right;\">\n",
       "      <th></th>\n",
       "      <th>CardId</th>\n",
       "      <th>CardMaskedNumber</th>\n",
       "      <th>CardStatus</th>\n",
       "      <th>CardHolderName</th>\n",
       "      <th>CardHolderEmail</th>\n",
       "      <th>CardActivationDate</th>\n",
       "      <th>CardProductCode</th>\n",
       "      <th>NetworkCode</th>\n",
       "      <th>WalletId</th>\n",
       "    </tr>\n",
       "  </thead>\n",
       "  <tbody>\n",
       "    <tr>\n",
       "      <th>0</th>\n",
       "      <td>472551A1-5213-4634-910F-0936078BBE4A</td>\n",
       "      <td>537489XXXXXX9155</td>\n",
       "      <td>Active</td>\n",
       "      <td>MIXXXXES</td>\n",
       "      <td>MIXX@XX.com</td>\n",
       "      <td>2019-01-17</td>\n",
       "      <td>GBC</td>\n",
       "      <td>MDT</td>\n",
       "      <td>1555075</td>\n",
       "    </tr>\n",
       "    <tr>\n",
       "      <th>1</th>\n",
       "      <td>88D46C5C-FD06-4AD9-9B3E-1F2F908034F7</td>\n",
       "      <td>537489XXXXXX2000</td>\n",
       "      <td>Active</td>\n",
       "      <td>NOXXXXAN</td>\n",
       "      <td>NOXX@XX.com</td>\n",
       "      <td>2019-01-15</td>\n",
       "      <td>GBC</td>\n",
       "      <td>MDT</td>\n",
       "      <td>7737229</td>\n",
       "    </tr>\n",
       "    <tr>\n",
       "      <th>2</th>\n",
       "      <td>6AC95B5C-D2F5-4259-865F-044993CBAA55</td>\n",
       "      <td>537489XXXXXX1609</td>\n",
       "      <td>Active</td>\n",
       "      <td>BAXXXXOS</td>\n",
       "      <td>anXX@XX.com</td>\n",
       "      <td>2019-04-08</td>\n",
       "      <td>BEC</td>\n",
       "      <td>MDT</td>\n",
       "      <td>1460308</td>\n",
       "    </tr>\n",
       "    <tr>\n",
       "      <th>3</th>\n",
       "      <td>015BE955-B53C-44CB-B73A-00DE3AAB7E7D</td>\n",
       "      <td>537489XXXXXX1903</td>\n",
       "      <td>Active</td>\n",
       "      <td>HOXXXXTS</td>\n",
       "      <td>HOXX@XX.com</td>\n",
       "      <td>2018-08-12</td>\n",
       "      <td>BEC</td>\n",
       "      <td>MDT</td>\n",
       "      <td>1604676</td>\n",
       "    </tr>\n",
       "    <tr>\n",
       "      <th>4</th>\n",
       "      <td>810C5A20-547B-41F0-8CC4-13178A343D6F</td>\n",
       "      <td>537489XXXXXX8913</td>\n",
       "      <td>Active</td>\n",
       "      <td>KOXXXXKS</td>\n",
       "      <td>suXX@XX.com</td>\n",
       "      <td>2019-03-14</td>\n",
       "      <td>GBC</td>\n",
       "      <td>MDT</td>\n",
       "      <td>1600748</td>\n",
       "    </tr>\n",
       "  </tbody>\n",
       "</table>\n",
       "</div>"
      ],
      "text/plain": [
       "                                 CardId  CardMaskedNumber CardStatus  \\\n",
       "0  472551A1-5213-4634-910F-0936078BBE4A  537489XXXXXX9155     Active   \n",
       "1  88D46C5C-FD06-4AD9-9B3E-1F2F908034F7  537489XXXXXX2000     Active   \n",
       "2  6AC95B5C-D2F5-4259-865F-044993CBAA55  537489XXXXXX1609     Active   \n",
       "3  015BE955-B53C-44CB-B73A-00DE3AAB7E7D  537489XXXXXX1903     Active   \n",
       "4  810C5A20-547B-41F0-8CC4-13178A343D6F  537489XXXXXX8913     Active   \n",
       "\n",
       "  CardHolderName CardHolderEmail CardActivationDate CardProductCode  \\\n",
       "0       MIXXXXES     MIXX@XX.com         2019-01-17             GBC   \n",
       "1       NOXXXXAN     NOXX@XX.com         2019-01-15             GBC   \n",
       "2       BAXXXXOS     anXX@XX.com         2019-04-08             BEC   \n",
       "3       HOXXXXTS     HOXX@XX.com         2018-08-12             BEC   \n",
       "4       KOXXXXKS     suXX@XX.com         2019-03-14             GBC   \n",
       "\n",
       "  NetworkCode  WalletId  \n",
       "0         MDT   1555075  \n",
       "1         MDT   7737229  \n",
       "2         MDT   1460308  \n",
       "3         MDT   1604676  \n",
       "4         MDT   1600748  "
      ]
     },
     "execution_count": 3,
     "metadata": {},
     "output_type": "execute_result"
    }
   ],
   "source": [
    "card_activation.head()"
   ]
  },
  {
   "cell_type": "code",
   "execution_count": 4,
   "id": "9d699ef5",
   "metadata": {},
   "outputs": [
    {
     "name": "stdout",
     "output_type": "stream",
     "text": [
      "<class 'pandas.core.frame.DataFrame'>\n",
      "RangeIndex: 1760 entries, 0 to 1759\n",
      "Data columns (total 9 columns):\n",
      " #   Column              Non-Null Count  Dtype \n",
      "---  ------              --------------  ----- \n",
      " 0   CardId              1760 non-null   object\n",
      " 1   CardMaskedNumber    1760 non-null   object\n",
      " 2   CardStatus          1760 non-null   object\n",
      " 3   CardHolderName      1760 non-null   object\n",
      " 4   CardHolderEmail     1760 non-null   object\n",
      " 5   CardActivationDate  1760 non-null   object\n",
      " 6   CardProductCode     1760 non-null   object\n",
      " 7   NetworkCode         1760 non-null   object\n",
      " 8   WalletId            1760 non-null   int64 \n",
      "dtypes: int64(1), object(8)\n",
      "memory usage: 123.9+ KB\n"
     ]
    }
   ],
   "source": [
    "card_activation.info()"
   ]
  },
  {
   "cell_type": "markdown",
   "id": "b705cea0",
   "metadata": {},
   "source": [
    "## 1.2 Card Requests"
   ]
  },
  {
   "cell_type": "code",
   "execution_count": 5,
   "id": "a5c4b5c7",
   "metadata": {},
   "outputs": [],
   "source": [
    "card_request = pd.read_csv('data/CardRequest.csv', sep = ';')"
   ]
  },
  {
   "cell_type": "code",
   "execution_count": 6,
   "id": "253b9b64",
   "metadata": {},
   "outputs": [
    {
     "data": {
      "text/html": [
       "<div>\n",
       "<style scoped>\n",
       "    .dataframe tbody tr th:only-of-type {\n",
       "        vertical-align: middle;\n",
       "    }\n",
       "\n",
       "    .dataframe tbody tr th {\n",
       "        vertical-align: top;\n",
       "    }\n",
       "\n",
       "    .dataframe thead th {\n",
       "        text-align: right;\n",
       "    }\n",
       "</style>\n",
       "<table border=\"1\" class=\"dataframe\">\n",
       "  <thead>\n",
       "    <tr style=\"text-align: right;\">\n",
       "      <th></th>\n",
       "      <th>CardRequestId</th>\n",
       "      <th>TypeId</th>\n",
       "      <th>TrackingNumber</th>\n",
       "      <th>ReferenceNumber</th>\n",
       "      <th>Sex</th>\n",
       "      <th>FirstName</th>\n",
       "      <th>LastOrBusinessName</th>\n",
       "      <th>City</th>\n",
       "      <th>PostalCode</th>\n",
       "      <th>AddressLine1</th>\n",
       "      <th>EmbossName</th>\n",
       "      <th>Sent</th>\n",
       "      <th>Track1Name</th>\n",
       "      <th>CountryCode</th>\n",
       "      <th>PriorityType</th>\n",
       "      <th>TargetSet</th>\n",
       "    </tr>\n",
       "  </thead>\n",
       "  <tbody>\n",
       "    <tr>\n",
       "      <th>0</th>\n",
       "      <td>39618A71-A148-4E23-8F2B-2E10E810D5E2</td>\n",
       "      <td>2</td>\n",
       "      <td>668XXXX422</td>\n",
       "      <td>199XXXX603</td>\n",
       "      <td>M</td>\n",
       "      <td>YXXXXO</td>\n",
       "      <td>FUXXXXTD</td>\n",
       "      <td>London</td>\n",
       "      <td>UB6 9QU</td>\n",
       "      <td>594-598 Greenford Road 594-598</td>\n",
       "      <td>YAXXXXTD</td>\n",
       "      <td>2018-09-24 17:02:54.8880 +03:00</td>\n",
       "      <td>FUXXXXYO</td>\n",
       "      <td>GB</td>\n",
       "      <td>High</td>\n",
       "      <td>0</td>\n",
       "    </tr>\n",
       "    <tr>\n",
       "      <th>1</th>\n",
       "      <td>97737B32-AF22-43D9-99FD-0326E3075E14</td>\n",
       "      <td>2</td>\n",
       "      <td>616XXXX238</td>\n",
       "      <td>624XXXX333</td>\n",
       "      <td>M</td>\n",
       "      <td>AXXXXR</td>\n",
       "      <td>AMXXXXNE</td>\n",
       "      <td>Bruxelles</td>\n",
       "      <td>1050</td>\n",
       "      <td>Avenue Louise  149</td>\n",
       "      <td>ACXXXXNE</td>\n",
       "      <td>2019-01-28 17:00:05.9743 +02:00</td>\n",
       "      <td>AMXXXXUR</td>\n",
       "      <td>BE</td>\n",
       "      <td>High</td>\n",
       "      <td>2</td>\n",
       "    </tr>\n",
       "    <tr>\n",
       "      <th>2</th>\n",
       "      <td>5B5FEA6D-B5AE-4826-9A63-0679E536EC63</td>\n",
       "      <td>2</td>\n",
       "      <td>448XXXX873</td>\n",
       "      <td>572XXXX599</td>\n",
       "      <td>M</td>\n",
       "      <td>GXXXXS</td>\n",
       "      <td>BOXXXXNE</td>\n",
       "      <td>Norfolk Norwich</td>\n",
       "      <td>NR2 4TE</td>\n",
       "      <td>Heigham Street  4-6</td>\n",
       "      <td>GIXXXXNE</td>\n",
       "      <td>2019-01-30 17:00:38.2550 +02:00</td>\n",
       "      <td>BOXXXXES</td>\n",
       "      <td>GB</td>\n",
       "      <td>High</td>\n",
       "      <td>0</td>\n",
       "    </tr>\n",
       "    <tr>\n",
       "      <th>3</th>\n",
       "      <td>1B1C4B04-97D5-44E9-B006-028D87E05228</td>\n",
       "      <td>2</td>\n",
       "      <td>322XXXX921</td>\n",
       "      <td>382XXXX384</td>\n",
       "      <td>M</td>\n",
       "      <td>DXXXXY</td>\n",
       "      <td>THXXXXRY</td>\n",
       "      <td>Bruxelles</td>\n",
       "      <td>1000</td>\n",
       "      <td>RUE DES PIERRES 52 1000 BRUXELLES 52</td>\n",
       "      <td>DAXXXXRY</td>\n",
       "      <td>2018-10-12 17:00:39.8533 +03:00</td>\n",
       "      <td>THXXXXBY</td>\n",
       "      <td>BE</td>\n",
       "      <td>High</td>\n",
       "      <td>2</td>\n",
       "    </tr>\n",
       "    <tr>\n",
       "      <th>4</th>\n",
       "      <td>BD6429E9-CE61-47A0-8738-005377890285</td>\n",
       "      <td>2</td>\n",
       "      <td>269XXXX953</td>\n",
       "      <td>985XXXX578</td>\n",
       "      <td>M</td>\n",
       "      <td>VXXXXA</td>\n",
       "      <td>EDXXXXES</td>\n",
       "      <td>london</td>\n",
       "      <td>NW2 3RA</td>\n",
       "      <td>8  Minster Road</td>\n",
       "      <td>VIXXXXES</td>\n",
       "      <td>2019-04-22 17:00:13.3505 +03:00</td>\n",
       "      <td>EDXXXXMA</td>\n",
       "      <td>GB</td>\n",
       "      <td>OnHold</td>\n",
       "      <td>1</td>\n",
       "    </tr>\n",
       "  </tbody>\n",
       "</table>\n",
       "</div>"
      ],
      "text/plain": [
       "                          CardRequestId  TypeId TrackingNumber  \\\n",
       "0  39618A71-A148-4E23-8F2B-2E10E810D5E2       2     668XXXX422   \n",
       "1  97737B32-AF22-43D9-99FD-0326E3075E14       2     616XXXX238   \n",
       "2  5B5FEA6D-B5AE-4826-9A63-0679E536EC63       2     448XXXX873   \n",
       "3  1B1C4B04-97D5-44E9-B006-028D87E05228       2     322XXXX921   \n",
       "4  BD6429E9-CE61-47A0-8738-005377890285       2     269XXXX953   \n",
       "\n",
       "  ReferenceNumber Sex FirstName LastOrBusinessName             City  \\\n",
       "0      199XXXX603   M    YXXXXO           FUXXXXTD           London   \n",
       "1      624XXXX333   M    AXXXXR           AMXXXXNE        Bruxelles   \n",
       "2      572XXXX599   M    GXXXXS           BOXXXXNE  Norfolk Norwich   \n",
       "3      382XXXX384   M    DXXXXY           THXXXXRY        Bruxelles   \n",
       "4      985XXXX578   M    VXXXXA           EDXXXXES           london   \n",
       "\n",
       "  PostalCode                          AddressLine1 EmbossName  \\\n",
       "0    UB6 9QU        594-598 Greenford Road 594-598   YAXXXXTD   \n",
       "1       1050                    Avenue Louise  149   ACXXXXNE   \n",
       "2    NR2 4TE                   Heigham Street  4-6   GIXXXXNE   \n",
       "3       1000  RUE DES PIERRES 52 1000 BRUXELLES 52   DAXXXXRY   \n",
       "4    NW2 3RA                       8  Minster Road   VIXXXXES   \n",
       "\n",
       "                              Sent Track1Name CountryCode PriorityType  \\\n",
       "0  2018-09-24 17:02:54.8880 +03:00   FUXXXXYO          GB         High   \n",
       "1  2019-01-28 17:00:05.9743 +02:00   AMXXXXUR          BE         High   \n",
       "2  2019-01-30 17:00:38.2550 +02:00   BOXXXXES          GB         High   \n",
       "3  2018-10-12 17:00:39.8533 +03:00   THXXXXBY          BE         High   \n",
       "4  2019-04-22 17:00:13.3505 +03:00   EDXXXXMA          GB       OnHold   \n",
       "\n",
       "   TargetSet  \n",
       "0          0  \n",
       "1          2  \n",
       "2          0  \n",
       "3          2  \n",
       "4          1  "
      ]
     },
     "execution_count": 6,
     "metadata": {},
     "output_type": "execute_result"
    }
   ],
   "source": [
    "card_request.head()"
   ]
  },
  {
   "cell_type": "code",
   "execution_count": 9,
   "id": "11bdba39",
   "metadata": {},
   "outputs": [
    {
     "name": "stdout",
     "output_type": "stream",
     "text": [
      "<class 'pandas.core.frame.DataFrame'>\n",
      "RangeIndex: 1760 entries, 0 to 1759\n",
      "Data columns (total 16 columns):\n",
      " #   Column              Non-Null Count  Dtype \n",
      "---  ------              --------------  ----- \n",
      " 0   CardRequestId       1760 non-null   object\n",
      " 1   TypeId              1760 non-null   int64 \n",
      " 2   TrackingNumber      1760 non-null   object\n",
      " 3   ReferenceNumber     1760 non-null   object\n",
      " 4   Sex                 1760 non-null   object\n",
      " 5   FirstName           1760 non-null   object\n",
      " 6   LastOrBusinessName  1760 non-null   object\n",
      " 7   City                1760 non-null   object\n",
      " 8   PostalCode          1760 non-null   object\n",
      " 9   AddressLine1        1760 non-null   object\n",
      " 10  EmbossName          1760 non-null   object\n",
      " 11  Sent                1760 non-null   object\n",
      " 12  Track1Name          1760 non-null   object\n",
      " 13  CountryCode         1760 non-null   object\n",
      " 14  PriorityType        1760 non-null   object\n",
      " 15  TargetSet           1760 non-null   int64 \n",
      "dtypes: int64(2), object(14)\n",
      "memory usage: 220.1+ KB\n"
     ]
    }
   ],
   "source": [
    "card_request.info()"
   ]
  },
  {
   "cell_type": "markdown",
   "id": "a02216f9",
   "metadata": {},
   "source": [
    "## 1.3 Card Transactions"
   ]
  },
  {
   "cell_type": "code",
   "execution_count": 7,
   "id": "1dd99462",
   "metadata": {},
   "outputs": [],
   "source": [
    "card_transaction = pd.read_csv('data/CardTransaction.csv', sep = ';')"
   ]
  },
  {
   "cell_type": "code",
   "execution_count": 8,
   "id": "53b6d043",
   "metadata": {},
   "outputs": [
    {
     "data": {
      "text/html": [
       "<div>\n",
       "<style scoped>\n",
       "    .dataframe tbody tr th:only-of-type {\n",
       "        vertical-align: middle;\n",
       "    }\n",
       "\n",
       "    .dataframe tbody tr th {\n",
       "        vertical-align: top;\n",
       "    }\n",
       "\n",
       "    .dataframe thead th {\n",
       "        text-align: right;\n",
       "    }\n",
       "</style>\n",
       "<table border=\"1\" class=\"dataframe\">\n",
       "  <thead>\n",
       "    <tr style=\"text-align: right;\">\n",
       "      <th></th>\n",
       "      <th>TransactionId</th>\n",
       "      <th>TransactionTypeId</th>\n",
       "      <th>TransactionDate</th>\n",
       "      <th>Currency</th>\n",
       "      <th>Channel</th>\n",
       "      <th>Status</th>\n",
       "      <th>Amount</th>\n",
       "      <th>CardAcceptorTerminalId</th>\n",
       "      <th>CardAcceptorDescription</th>\n",
       "      <th>CardAcceptorCountryId</th>\n",
       "      <th>CardAcceptorCategoryId</th>\n",
       "      <th>CardId</th>\n",
       "      <th>WalletId</th>\n",
       "    </tr>\n",
       "  </thead>\n",
       "  <tbody>\n",
       "    <tr>\n",
       "      <th>0</th>\n",
       "      <td>89E96686-A69B-4B17-9B51-006194A974B9</td>\n",
       "      <td>0</td>\n",
       "      <td>2019-03-28 16:58:02.390</td>\n",
       "      <td>826</td>\n",
       "      <td>Card Present</td>\n",
       "      <td>Approved</td>\n",
       "      <td>6.50</td>\n",
       "      <td>67722256</td>\n",
       "      <td>iZ *Igloo Express      LUTON         GBR</td>\n",
       "      <td>826.0</td>\n",
       "      <td>5812.0</td>\n",
       "      <td>E18F0B23-F11E-4519-8999-DB6E9BC88BC0</td>\n",
       "      <td>9358132</td>\n",
       "    </tr>\n",
       "    <tr>\n",
       "      <th>1</th>\n",
       "      <td>C0247B84-C7C9-40B8-9AF2-001B6FFBCB4C</td>\n",
       "      <td>1</td>\n",
       "      <td>2019-04-25 00:56:44.020</td>\n",
       "      <td>826</td>\n",
       "      <td>Card Present</td>\n",
       "      <td>Approved</td>\n",
       "      <td>400.00</td>\n",
       "      <td>N236831</td>\n",
       "      <td>WATFORD TOWN CTR       WATFORD       GBR</td>\n",
       "      <td>826.0</td>\n",
       "      <td>6011.0</td>\n",
       "      <td>0791BD54-B2F5-4824-9088-C4D41B95B5B4</td>\n",
       "      <td>1888341</td>\n",
       "    </tr>\n",
       "    <tr>\n",
       "      <th>2</th>\n",
       "      <td>21342D07-1036-42C4-B55A-006B69CA0C8E</td>\n",
       "      <td>1</td>\n",
       "      <td>2019-01-16 23:16:00.917</td>\n",
       "      <td>826</td>\n",
       "      <td>Card Present</td>\n",
       "      <td>Approved</td>\n",
       "      <td>400.00</td>\n",
       "      <td>W0222Z</td>\n",
       "      <td>222 HIGH STREET        LONDON        GBR</td>\n",
       "      <td>826.0</td>\n",
       "      <td>6011.0</td>\n",
       "      <td>F4F5F549-A0E6-4C21-ACD6-C28E71FBBB42</td>\n",
       "      <td>1879253</td>\n",
       "    </tr>\n",
       "    <tr>\n",
       "      <th>3</th>\n",
       "      <td>5750E607-CB90-428F-BD75-001121B6BC94</td>\n",
       "      <td>0</td>\n",
       "      <td>2019-04-03 10:33:06.970</td>\n",
       "      <td>978</td>\n",
       "      <td>Card Not Present</td>\n",
       "      <td>Approved</td>\n",
       "      <td>20.21</td>\n",
       "      <td>WPGTID01</td>\n",
       "      <td>WWW.ALIEXPRESS.COM     LONDON        GBR</td>\n",
       "      <td>826.0</td>\n",
       "      <td>5964.0</td>\n",
       "      <td>C028AC17-7560-4BB7-9BF7-EF7AD99639F4</td>\n",
       "      <td>1748927</td>\n",
       "    </tr>\n",
       "    <tr>\n",
       "      <th>4</th>\n",
       "      <td>21BBFB4F-EA3D-4AA0-8C67-00517844A15C</td>\n",
       "      <td>0</td>\n",
       "      <td>2019-04-24 14:07:53.070</td>\n",
       "      <td>826</td>\n",
       "      <td>Card Present</td>\n",
       "      <td>Approved</td>\n",
       "      <td>4.75</td>\n",
       "      <td>36141602</td>\n",
       "      <td>SUPERSAVE FOOD AND WIN LONDON        GBR</td>\n",
       "      <td>826.0</td>\n",
       "      <td>5411.0</td>\n",
       "      <td>E86C7D86-097C-4E44-A886-17D69A2A028F</td>\n",
       "      <td>4781689</td>\n",
       "    </tr>\n",
       "  </tbody>\n",
       "</table>\n",
       "</div>"
      ],
      "text/plain": [
       "                          TransactionId  TransactionTypeId  \\\n",
       "0  89E96686-A69B-4B17-9B51-006194A974B9                  0   \n",
       "1  C0247B84-C7C9-40B8-9AF2-001B6FFBCB4C                  1   \n",
       "2  21342D07-1036-42C4-B55A-006B69CA0C8E                  1   \n",
       "3  5750E607-CB90-428F-BD75-001121B6BC94                  0   \n",
       "4  21BBFB4F-EA3D-4AA0-8C67-00517844A15C                  0   \n",
       "\n",
       "           TransactionDate  Currency           Channel    Status  Amount  \\\n",
       "0  2019-03-28 16:58:02.390       826      Card Present  Approved    6.50   \n",
       "1  2019-04-25 00:56:44.020       826      Card Present  Approved  400.00   \n",
       "2  2019-01-16 23:16:00.917       826      Card Present  Approved  400.00   \n",
       "3  2019-04-03 10:33:06.970       978  Card Not Present  Approved   20.21   \n",
       "4  2019-04-24 14:07:53.070       826      Card Present  Approved    4.75   \n",
       "\n",
       "  CardAcceptorTerminalId                   CardAcceptorDescription  \\\n",
       "0               67722256  iZ *Igloo Express      LUTON         GBR   \n",
       "1               N236831   WATFORD TOWN CTR       WATFORD       GBR   \n",
       "2               W0222Z    222 HIGH STREET        LONDON        GBR   \n",
       "3               WPGTID01  WWW.ALIEXPRESS.COM     LONDON        GBR   \n",
       "4               36141602  SUPERSAVE FOOD AND WIN LONDON        GBR   \n",
       "\n",
       "   CardAcceptorCountryId  CardAcceptorCategoryId  \\\n",
       "0                  826.0                  5812.0   \n",
       "1                  826.0                  6011.0   \n",
       "2                  826.0                  6011.0   \n",
       "3                  826.0                  5964.0   \n",
       "4                  826.0                  5411.0   \n",
       "\n",
       "                                 CardId  WalletId  \n",
       "0  E18F0B23-F11E-4519-8999-DB6E9BC88BC0   9358132  \n",
       "1  0791BD54-B2F5-4824-9088-C4D41B95B5B4   1888341  \n",
       "2  F4F5F549-A0E6-4C21-ACD6-C28E71FBBB42   1879253  \n",
       "3  C028AC17-7560-4BB7-9BF7-EF7AD99639F4   1748927  \n",
       "4  E86C7D86-097C-4E44-A886-17D69A2A028F   4781689  "
      ]
     },
     "execution_count": 8,
     "metadata": {},
     "output_type": "execute_result"
    }
   ],
   "source": [
    "card_transaction.head()"
   ]
  },
  {
   "cell_type": "code",
   "execution_count": 10,
   "id": "4b7beade",
   "metadata": {},
   "outputs": [
    {
     "name": "stdout",
     "output_type": "stream",
     "text": [
      "<class 'pandas.core.frame.DataFrame'>\n",
      "RangeIndex: 51199 entries, 0 to 51198\n",
      "Data columns (total 13 columns):\n",
      " #   Column                   Non-Null Count  Dtype  \n",
      "---  ------                   --------------  -----  \n",
      " 0   TransactionId            51199 non-null  object \n",
      " 1   TransactionTypeId        51199 non-null  int64  \n",
      " 2   TransactionDate          51199 non-null  object \n",
      " 3   Currency                 51199 non-null  int64  \n",
      " 4   Channel                  51199 non-null  object \n",
      " 5   Status                   51199 non-null  object \n",
      " 6   Amount                   51199 non-null  float64\n",
      " 7   CardAcceptorTerminalId   49716 non-null  object \n",
      " 8   CardAcceptorDescription  51197 non-null  object \n",
      " 9   CardAcceptorCountryId    51153 non-null  float64\n",
      " 10  CardAcceptorCategoryId   51153 non-null  float64\n",
      " 11  CardId                   51199 non-null  object \n",
      " 12  WalletId                 51199 non-null  int64  \n",
      "dtypes: float64(3), int64(3), object(7)\n",
      "memory usage: 5.1+ MB\n"
     ]
    }
   ],
   "source": [
    "card_transaction.info()"
   ]
  },
  {
   "cell_type": "markdown",
   "id": "e19e3c5a",
   "metadata": {},
   "source": [
    "## 1.4 Country"
   ]
  },
  {
   "cell_type": "code",
   "execution_count": 11,
   "id": "b5506870",
   "metadata": {},
   "outputs": [],
   "source": [
    "country = pd.read_csv('data/Country.csv', sep = ';')"
   ]
  },
  {
   "cell_type": "code",
   "execution_count": 12,
   "id": "65a4ef88",
   "metadata": {},
   "outputs": [
    {
     "data": {
      "text/html": [
       "<div>\n",
       "<style scoped>\n",
       "    .dataframe tbody tr th:only-of-type {\n",
       "        vertical-align: middle;\n",
       "    }\n",
       "\n",
       "    .dataframe tbody tr th {\n",
       "        vertical-align: top;\n",
       "    }\n",
       "\n",
       "    .dataframe thead th {\n",
       "        text-align: right;\n",
       "    }\n",
       "</style>\n",
       "<table border=\"1\" class=\"dataframe\">\n",
       "  <thead>\n",
       "    <tr style=\"text-align: right;\">\n",
       "      <th></th>\n",
       "      <th>CountryId</th>\n",
       "      <th>Code</th>\n",
       "      <th>Name</th>\n",
       "    </tr>\n",
       "  </thead>\n",
       "  <tbody>\n",
       "    <tr>\n",
       "      <th>0</th>\n",
       "      <td>4</td>\n",
       "      <td>AF</td>\n",
       "      <td>AFGHANISTAN</td>\n",
       "    </tr>\n",
       "    <tr>\n",
       "      <th>1</th>\n",
       "      <td>8</td>\n",
       "      <td>AL</td>\n",
       "      <td>ALBANIA</td>\n",
       "    </tr>\n",
       "    <tr>\n",
       "      <th>2</th>\n",
       "      <td>12</td>\n",
       "      <td>DZ</td>\n",
       "      <td>ALGERIA</td>\n",
       "    </tr>\n",
       "    <tr>\n",
       "      <th>3</th>\n",
       "      <td>16</td>\n",
       "      <td>AS</td>\n",
       "      <td>AMERICAN SAMOA</td>\n",
       "    </tr>\n",
       "    <tr>\n",
       "      <th>4</th>\n",
       "      <td>20</td>\n",
       "      <td>AD</td>\n",
       "      <td>ANDORRA</td>\n",
       "    </tr>\n",
       "  </tbody>\n",
       "</table>\n",
       "</div>"
      ],
      "text/plain": [
       "   CountryId Code            Name\n",
       "0          4   AF     AFGHANISTAN\n",
       "1          8   AL         ALBANIA\n",
       "2         12   DZ         ALGERIA\n",
       "3         16   AS  AMERICAN SAMOA\n",
       "4         20   AD         ANDORRA"
      ]
     },
     "execution_count": 12,
     "metadata": {},
     "output_type": "execute_result"
    }
   ],
   "source": [
    "country.head()"
   ]
  },
  {
   "cell_type": "code",
   "execution_count": 13,
   "id": "200abbc7",
   "metadata": {},
   "outputs": [
    {
     "name": "stdout",
     "output_type": "stream",
     "text": [
      "<class 'pandas.core.frame.DataFrame'>\n",
      "RangeIndex: 211 entries, 0 to 210\n",
      "Data columns (total 3 columns):\n",
      " #   Column     Non-Null Count  Dtype \n",
      "---  ------     --------------  ----- \n",
      " 0   CountryId  211 non-null    int64 \n",
      " 1   Code       210 non-null    object\n",
      " 2   Name       211 non-null    object\n",
      "dtypes: int64(1), object(2)\n",
      "memory usage: 5.1+ KB\n"
     ]
    }
   ],
   "source": [
    "country.info()"
   ]
  },
  {
   "cell_type": "markdown",
   "id": "d47972d5",
   "metadata": {},
   "source": [
    "## 1.5 Currency"
   ]
  },
  {
   "cell_type": "code",
   "execution_count": 14,
   "id": "ee895821",
   "metadata": {},
   "outputs": [],
   "source": [
    "currency = pd.read_csv('data/Currency.csv', sep = ';')"
   ]
  },
  {
   "cell_type": "code",
   "execution_count": 15,
   "id": "37ff1cf6",
   "metadata": {},
   "outputs": [
    {
     "data": {
      "text/html": [
       "<div>\n",
       "<style scoped>\n",
       "    .dataframe tbody tr th:only-of-type {\n",
       "        vertical-align: middle;\n",
       "    }\n",
       "\n",
       "    .dataframe tbody tr th {\n",
       "        vertical-align: top;\n",
       "    }\n",
       "\n",
       "    .dataframe thead th {\n",
       "        text-align: right;\n",
       "    }\n",
       "</style>\n",
       "<table border=\"1\" class=\"dataframe\">\n",
       "  <thead>\n",
       "    <tr style=\"text-align: right;\">\n",
       "      <th></th>\n",
       "      <th>Code</th>\n",
       "      <th>Name</th>\n",
       "      <th>FullName</th>\n",
       "    </tr>\n",
       "  </thead>\n",
       "  <tbody>\n",
       "    <tr>\n",
       "      <th>0</th>\n",
       "      <td>8</td>\n",
       "      <td>ALL</td>\n",
       "      <td>Albanian lek</td>\n",
       "    </tr>\n",
       "    <tr>\n",
       "      <th>1</th>\n",
       "      <td>12</td>\n",
       "      <td>DZD</td>\n",
       "      <td>Algerian dinar</td>\n",
       "    </tr>\n",
       "    <tr>\n",
       "      <th>2</th>\n",
       "      <td>32</td>\n",
       "      <td>ARS</td>\n",
       "      <td>Argentine peso</td>\n",
       "    </tr>\n",
       "    <tr>\n",
       "      <th>3</th>\n",
       "      <td>36</td>\n",
       "      <td>AUD</td>\n",
       "      <td>Australian dollar</td>\n",
       "    </tr>\n",
       "    <tr>\n",
       "      <th>4</th>\n",
       "      <td>44</td>\n",
       "      <td>BSD</td>\n",
       "      <td>Bahamian dollar</td>\n",
       "    </tr>\n",
       "  </tbody>\n",
       "</table>\n",
       "</div>"
      ],
      "text/plain": [
       "   Code Name           FullName\n",
       "0     8  ALL       Albanian lek\n",
       "1    12  DZD     Algerian dinar\n",
       "2    32  ARS     Argentine peso\n",
       "3    36  AUD  Australian dollar\n",
       "4    44  BSD    Bahamian dollar"
      ]
     },
     "execution_count": 15,
     "metadata": {},
     "output_type": "execute_result"
    }
   ],
   "source": [
    "currency.head()"
   ]
  },
  {
   "cell_type": "code",
   "execution_count": 16,
   "id": "38286f19",
   "metadata": {},
   "outputs": [
    {
     "name": "stdout",
     "output_type": "stream",
     "text": [
      "<class 'pandas.core.frame.DataFrame'>\n",
      "RangeIndex: 177 entries, 0 to 176\n",
      "Data columns (total 3 columns):\n",
      " #   Column    Non-Null Count  Dtype \n",
      "---  ------    --------------  ----- \n",
      " 0   Code      177 non-null    int64 \n",
      " 1   Name      177 non-null    object\n",
      " 2   FullName  177 non-null    object\n",
      "dtypes: int64(1), object(2)\n",
      "memory usage: 4.3+ KB\n"
     ]
    }
   ],
   "source": [
    "currency.info()"
   ]
  },
  {
   "cell_type": "markdown",
   "id": "27c0fdfa",
   "metadata": {},
   "source": [
    "## 1.6 Merchant Categories"
   ]
  },
  {
   "cell_type": "code",
   "execution_count": 19,
   "id": "9b1a7d71",
   "metadata": {},
   "outputs": [],
   "source": [
    "merchant_categories = pd.read_csv('data/MerchantCategory.csv', sep = ';')"
   ]
  },
  {
   "cell_type": "code",
   "execution_count": 20,
   "id": "e5f61b31",
   "metadata": {},
   "outputs": [
    {
     "data": {
      "text/html": [
       "<div>\n",
       "<style scoped>\n",
       "    .dataframe tbody tr th:only-of-type {\n",
       "        vertical-align: middle;\n",
       "    }\n",
       "\n",
       "    .dataframe tbody tr th {\n",
       "        vertical-align: top;\n",
       "    }\n",
       "\n",
       "    .dataframe thead th {\n",
       "        text-align: right;\n",
       "    }\n",
       "</style>\n",
       "<table border=\"1\" class=\"dataframe\">\n",
       "  <thead>\n",
       "    <tr style=\"text-align: right;\">\n",
       "      <th></th>\n",
       "      <th>Code</th>\n",
       "      <th>Description</th>\n",
       "    </tr>\n",
       "  </thead>\n",
       "  <tbody>\n",
       "    <tr>\n",
       "      <th>0</th>\n",
       "      <td>742</td>\n",
       "      <td>Veterinary Services</td>\n",
       "    </tr>\n",
       "    <tr>\n",
       "      <th>1</th>\n",
       "      <td>763</td>\n",
       "      <td>Agricultural Co-operatives</td>\n",
       "    </tr>\n",
       "    <tr>\n",
       "      <th>2</th>\n",
       "      <td>780</td>\n",
       "      <td>Horticultural Services, Landscaping Services</td>\n",
       "    </tr>\n",
       "    <tr>\n",
       "      <th>3</th>\n",
       "      <td>1520</td>\n",
       "      <td>General Contractors-Residential and Commercial</td>\n",
       "    </tr>\n",
       "    <tr>\n",
       "      <th>4</th>\n",
       "      <td>1711</td>\n",
       "      <td>Air Conditioning Contractors – Sales and Insta...</td>\n",
       "    </tr>\n",
       "  </tbody>\n",
       "</table>\n",
       "</div>"
      ],
      "text/plain": [
       "   Code                                        Description\n",
       "0   742                                Veterinary Services\n",
       "1   763                         Agricultural Co-operatives\n",
       "2   780       Horticultural Services, Landscaping Services\n",
       "3  1520     General Contractors-Residential and Commercial\n",
       "4  1711  Air Conditioning Contractors – Sales and Insta..."
      ]
     },
     "execution_count": 20,
     "metadata": {},
     "output_type": "execute_result"
    }
   ],
   "source": [
    "merchant_categories.head()"
   ]
  },
  {
   "cell_type": "code",
   "execution_count": 21,
   "id": "8209df2a",
   "metadata": {},
   "outputs": [
    {
     "name": "stdout",
     "output_type": "stream",
     "text": [
      "<class 'pandas.core.frame.DataFrame'>\n",
      "RangeIndex: 964 entries, 0 to 963\n",
      "Data columns (total 2 columns):\n",
      " #   Column       Non-Null Count  Dtype \n",
      "---  ------       --------------  ----- \n",
      " 0   Code         964 non-null    int64 \n",
      " 1   Description  964 non-null    object\n",
      "dtypes: int64(1), object(1)\n",
      "memory usage: 15.2+ KB\n"
     ]
    }
   ],
   "source": [
    "merchant_categories.info()"
   ]
  },
  {
   "cell_type": "markdown",
   "id": "1acf87d3",
   "metadata": {},
   "source": [
    "## 1.7 Transaction Types"
   ]
  },
  {
   "cell_type": "code",
   "execution_count": 22,
   "id": "faa15f11",
   "metadata": {},
   "outputs": [],
   "source": [
    "transaction_types = pd.read_csv('data/TransactionType.csv', sep = ';')"
   ]
  },
  {
   "cell_type": "code",
   "execution_count": 23,
   "id": "09f69265",
   "metadata": {},
   "outputs": [
    {
     "data": {
      "text/html": [
       "<div>\n",
       "<style scoped>\n",
       "    .dataframe tbody tr th:only-of-type {\n",
       "        vertical-align: middle;\n",
       "    }\n",
       "\n",
       "    .dataframe tbody tr th {\n",
       "        vertical-align: top;\n",
       "    }\n",
       "\n",
       "    .dataframe thead th {\n",
       "        text-align: right;\n",
       "    }\n",
       "</style>\n",
       "<table border=\"1\" class=\"dataframe\">\n",
       "  <thead>\n",
       "    <tr style=\"text-align: right;\">\n",
       "      <th></th>\n",
       "      <th>TransactionTypeId</th>\n",
       "      <th>Name</th>\n",
       "    </tr>\n",
       "  </thead>\n",
       "  <tbody>\n",
       "    <tr>\n",
       "      <th>0</th>\n",
       "      <td>0</td>\n",
       "      <td>Purchase</td>\n",
       "    </tr>\n",
       "    <tr>\n",
       "      <th>1</th>\n",
       "      <td>1</td>\n",
       "      <td>ATM Cash Withdrawal</td>\n",
       "    </tr>\n",
       "    <tr>\n",
       "      <th>2</th>\n",
       "      <td>9</td>\n",
       "      <td>Purchase with Cash Back</td>\n",
       "    </tr>\n",
       "    <tr>\n",
       "      <th>3</th>\n",
       "      <td>12</td>\n",
       "      <td>Cash Disbursement</td>\n",
       "    </tr>\n",
       "    <tr>\n",
       "      <th>4</th>\n",
       "      <td>18</td>\n",
       "      <td>Unique Transaction</td>\n",
       "    </tr>\n",
       "  </tbody>\n",
       "</table>\n",
       "</div>"
      ],
      "text/plain": [
       "   TransactionTypeId                     Name\n",
       "0                  0                 Purchase\n",
       "1                  1      ATM Cash Withdrawal\n",
       "2                  9  Purchase with Cash Back\n",
       "3                 12        Cash Disbursement\n",
       "4                 18       Unique Transaction"
      ]
     },
     "execution_count": 23,
     "metadata": {},
     "output_type": "execute_result"
    }
   ],
   "source": [
    "transaction_types.head()"
   ]
  },
  {
   "cell_type": "code",
   "execution_count": 24,
   "id": "ceab3074",
   "metadata": {},
   "outputs": [
    {
     "name": "stdout",
     "output_type": "stream",
     "text": [
      "<class 'pandas.core.frame.DataFrame'>\n",
      "RangeIndex: 12 entries, 0 to 11\n",
      "Data columns (total 2 columns):\n",
      " #   Column             Non-Null Count  Dtype \n",
      "---  ------             --------------  ----- \n",
      " 0   TransactionTypeId  12 non-null     int64 \n",
      " 1   Name               12 non-null     object\n",
      "dtypes: int64(1), object(1)\n",
      "memory usage: 320.0+ bytes\n"
     ]
    }
   ],
   "source": [
    "transaction_types.info()"
   ]
  }
 ],
 "metadata": {
  "kernelspec": {
   "display_name": "Python 3",
   "language": "python",
   "name": "python3"
  },
  "language_info": {
   "codemirror_mode": {
    "name": "ipython",
    "version": 3
   },
   "file_extension": ".py",
   "mimetype": "text/x-python",
   "name": "python",
   "nbconvert_exporter": "python",
   "pygments_lexer": "ipython3",
   "version": "3.10.11"
  }
 },
 "nbformat": 4,
 "nbformat_minor": 5
}
